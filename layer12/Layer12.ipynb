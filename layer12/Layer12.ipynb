{
 "cells": [
  {
   "cell_type": "markdown",
   "metadata": {
    "id": "S0PWRgNdKdIs"
   },
   "source": [
    "# **Layer 12**"
   ]
  },
  {
   "cell_type": "markdown",
   "metadata": {
    "id": "RwJuAeaLKwn6"
   },
   "source": [
    "## **Prepare Environment**"
   ]
  },
  {
   "cell_type": "markdown",
   "metadata": {
    "id": "0Sswa4lVLt61"
   },
   "source": [
    "### Import libraries and modules\n",
    "\n"
   ]
  },
  {
   "cell_type": "code",
   "execution_count": 1,
   "metadata": {
    "ExecuteTime": {
     "end_time": "2023-09-22T13:45:32.614056600Z",
     "start_time": "2023-09-22T13:45:32.567137800Z"
    },
    "id": "Z6RZkkxdLmww"
   },
   "outputs": [],
   "source": [
    "import numpy as np\n",
    "import pandas as pd\n",
    "import matplotlib.pyplot as plt\n",
    "import seaborn as sns\n",
    "\n",
    "from sklearn.preprocessing import StandardScaler, RobustScaler\n",
    "from sklearn.decomposition import PCA\n",
    "\n",
    "from sklearn.ensemble import IsolationForest\n",
    "from sklearn.covariance import EllipticEnvelope\n",
    "from sklearn.neighbors import LocalOutlierFactor\n",
    "from sklearn.svm import OneClassSVM\n",
    "\n",
    "from sklearn.experimental import enable_halving_search_cv\n",
    "from sklearn.model_selection import HalvingGridSearchCV\n",
    "from sklearn.model_selection import RandomizedSearchCV\n",
    "\n",
    "from imblearn.over_sampling import RandomOverSampler\n",
    "from imblearn.under_sampling import RandomUnderSampler\n",
    "from imblearn.pipeline import Pipeline\n",
    "\n",
    "from sklearn.neighbors import KNeighborsClassifier\n",
    "from sklearn.tree import DecisionTreeClassifier\n",
    "from sklearn.ensemble import RandomForestClassifier\n",
    "from sklearn.svm import SVC\n",
    "\n",
    "from sklearn.metrics import accuracy_score, precision_score, recall_score\n",
    "from sklearn.model_selection import cross_val_score\n",
    "from sklearn.model_selection import KFold"
   ]
  },
  {
   "cell_type": "markdown",
   "metadata": {
    "id": "umWGnfGFMQUq"
   },
   "source": [
    "### Load the dataset\n",
    "*   Training Data\n",
    "*   Validation Data\n",
    "*   Test Data"
   ]
  },
  {
   "cell_type": "code",
   "execution_count": 2,
   "metadata": {
    "ExecuteTime": {
     "end_time": "2023-09-22T13:45:29.660769300Z",
     "start_time": "2023-09-22T13:45:29.629654600Z"
    },
    "colab": {
     "base_uri": "https://localhost:8080/"
    },
    "id": "LAAmKpHzMKv6",
    "outputId": "000eca06-6e20-4992-a218-a28e4abad964"
   },
   "outputs": [],
   "source": [
    "train_path = 'D:\\\\ACADEMIC\\\\SEMESTER 07\\\\ML - 3\\\\project\\\\Layer12\\\\train.csv'\n",
    "valid_path = 'D:\\\\ACADEMIC\\\\SEMESTER 07\\\\ML - 3\\\\project\\\\Layer12\\\\valid.csv'\n",
    "test_path = 'D:\\\\ACADEMIC\\\\SEMESTER 07\\\\ML - 3\\\\project\\\\Layer12\\\\test.csv'\n",
    "\n",
    "train_data = pd.read_csv(train_path)\n",
    "\n",
    "valid_data = pd.read_csv(valid_path)\n",
    "\n",
    "test_data = pd.read_csv(test_path)"
   ]
  },
  {
   "cell_type": "markdown",
   "metadata": {
    "id": "4B1ENntLQ9Gg"
   },
   "source": [
    "### Dataset Info and split dataset according to the labels"
   ]
  },
  {
   "cell_type": "code",
   "execution_count": 3,
   "metadata": {
    "colab": {
     "base_uri": "https://localhost:8080/"
    },
    "id": "r47wVJffQ4BM",
    "outputId": "4a95a3b6-1cec-46a9-be9b-ca718db3f58c"
   },
   "outputs": [
    {
     "name": "stdout",
     "output_type": "stream",
     "text": [
      "(28520, 772)\n",
      "(750, 772)\n",
      "(744, 769)\n"
     ]
    }
   ],
   "source": [
    "print(train_data.shape)\n",
    "print(valid_data.shape)\n",
    "print(test_data.shape)"
   ]
  },
  {
   "cell_type": "code",
   "execution_count": 4,
   "metadata": {
    "colab": {
     "base_uri": "https://localhost:8080/",
     "height": 255
    },
    "id": "ZMVSYcSOSfM0",
    "outputId": "3a3013c5-d37b-4214-e37a-71b5503ae15b"
   },
   "outputs": [
    {
     "data": {
      "text/html": [
       "<div>\n",
       "<style scoped>\n",
       "    .dataframe tbody tr th:only-of-type {\n",
       "        vertical-align: middle;\n",
       "    }\n",
       "\n",
       "    .dataframe tbody tr th {\n",
       "        vertical-align: top;\n",
       "    }\n",
       "\n",
       "    .dataframe thead th {\n",
       "        text-align: right;\n",
       "    }\n",
       "</style>\n",
       "<table border=\"1\" class=\"dataframe\">\n",
       "  <thead>\n",
       "    <tr style=\"text-align: right;\">\n",
       "      <th></th>\n",
       "      <th>feature_1</th>\n",
       "      <th>feature_2</th>\n",
       "      <th>feature_3</th>\n",
       "      <th>feature_4</th>\n",
       "      <th>feature_5</th>\n",
       "      <th>feature_6</th>\n",
       "      <th>feature_7</th>\n",
       "      <th>feature_8</th>\n",
       "      <th>feature_9</th>\n",
       "      <th>feature_10</th>\n",
       "      <th>...</th>\n",
       "      <th>feature_763</th>\n",
       "      <th>feature_764</th>\n",
       "      <th>feature_765</th>\n",
       "      <th>feature_766</th>\n",
       "      <th>feature_767</th>\n",
       "      <th>feature_768</th>\n",
       "      <th>label_1</th>\n",
       "      <th>label_2</th>\n",
       "      <th>label_3</th>\n",
       "      <th>label_4</th>\n",
       "    </tr>\n",
       "  </thead>\n",
       "  <tbody>\n",
       "    <tr>\n",
       "      <th>0</th>\n",
       "      <td>0.031138</td>\n",
       "      <td>0.079892</td>\n",
       "      <td>0.157382</td>\n",
       "      <td>-0.014636</td>\n",
       "      <td>-0.051778</td>\n",
       "      <td>-0.021332</td>\n",
       "      <td>-0.073593</td>\n",
       "      <td>-0.005386</td>\n",
       "      <td>-0.212557</td>\n",
       "      <td>0.099683</td>\n",
       "      <td>...</td>\n",
       "      <td>-0.085248</td>\n",
       "      <td>-0.096007</td>\n",
       "      <td>-0.000766</td>\n",
       "      <td>0.021399</td>\n",
       "      <td>-0.041432</td>\n",
       "      <td>0.094806</td>\n",
       "      <td>45</td>\n",
       "      <td>NaN</td>\n",
       "      <td>1</td>\n",
       "      <td>6</td>\n",
       "    </tr>\n",
       "    <tr>\n",
       "      <th>1</th>\n",
       "      <td>0.113040</td>\n",
       "      <td>0.175731</td>\n",
       "      <td>0.217741</td>\n",
       "      <td>-0.196254</td>\n",
       "      <td>-0.010129</td>\n",
       "      <td>-0.030586</td>\n",
       "      <td>0.067114</td>\n",
       "      <td>-0.072412</td>\n",
       "      <td>-0.239192</td>\n",
       "      <td>0.104741</td>\n",
       "      <td>...</td>\n",
       "      <td>-0.090283</td>\n",
       "      <td>-0.053885</td>\n",
       "      <td>-0.010967</td>\n",
       "      <td>0.062209</td>\n",
       "      <td>-0.122958</td>\n",
       "      <td>0.192949</td>\n",
       "      <td>45</td>\n",
       "      <td>NaN</td>\n",
       "      <td>1</td>\n",
       "      <td>6</td>\n",
       "    </tr>\n",
       "    <tr>\n",
       "      <th>2</th>\n",
       "      <td>0.048570</td>\n",
       "      <td>0.091281</td>\n",
       "      <td>0.160776</td>\n",
       "      <td>-0.150937</td>\n",
       "      <td>0.020115</td>\n",
       "      <td>0.044117</td>\n",
       "      <td>-0.050092</td>\n",
       "      <td>-0.045661</td>\n",
       "      <td>-0.155332</td>\n",
       "      <td>0.117206</td>\n",
       "      <td>...</td>\n",
       "      <td>-0.021524</td>\n",
       "      <td>-0.008411</td>\n",
       "      <td>-0.006248</td>\n",
       "      <td>0.031468</td>\n",
       "      <td>-0.056915</td>\n",
       "      <td>0.154731</td>\n",
       "      <td>45</td>\n",
       "      <td>NaN</td>\n",
       "      <td>1</td>\n",
       "      <td>6</td>\n",
       "    </tr>\n",
       "    <tr>\n",
       "      <th>3</th>\n",
       "      <td>0.039212</td>\n",
       "      <td>0.118388</td>\n",
       "      <td>0.173831</td>\n",
       "      <td>-0.096659</td>\n",
       "      <td>-0.008702</td>\n",
       "      <td>0.061298</td>\n",
       "      <td>0.008974</td>\n",
       "      <td>-0.003277</td>\n",
       "      <td>-0.065046</td>\n",
       "      <td>0.095480</td>\n",
       "      <td>...</td>\n",
       "      <td>-0.071936</td>\n",
       "      <td>-0.023120</td>\n",
       "      <td>-0.007812</td>\n",
       "      <td>0.057600</td>\n",
       "      <td>-0.121892</td>\n",
       "      <td>0.072796</td>\n",
       "      <td>45</td>\n",
       "      <td>NaN</td>\n",
       "      <td>1</td>\n",
       "      <td>6</td>\n",
       "    </tr>\n",
       "    <tr>\n",
       "      <th>4</th>\n",
       "      <td>0.056019</td>\n",
       "      <td>0.170639</td>\n",
       "      <td>0.157917</td>\n",
       "      <td>-0.228605</td>\n",
       "      <td>-0.065965</td>\n",
       "      <td>-0.088732</td>\n",
       "      <td>-0.082243</td>\n",
       "      <td>-0.080568</td>\n",
       "      <td>-0.341500</td>\n",
       "      <td>0.142430</td>\n",
       "      <td>...</td>\n",
       "      <td>-0.155621</td>\n",
       "      <td>-0.079447</td>\n",
       "      <td>0.015316</td>\n",
       "      <td>0.127726</td>\n",
       "      <td>-0.151966</td>\n",
       "      <td>0.169634</td>\n",
       "      <td>45</td>\n",
       "      <td>NaN</td>\n",
       "      <td>1</td>\n",
       "      <td>6</td>\n",
       "    </tr>\n",
       "  </tbody>\n",
       "</table>\n",
       "<p>5 rows × 772 columns</p>\n",
       "</div>"
      ],
      "text/plain": [
       "   feature_1  feature_2  feature_3  feature_4  feature_5  feature_6  \\\n",
       "0   0.031138   0.079892   0.157382  -0.014636  -0.051778  -0.021332   \n",
       "1   0.113040   0.175731   0.217741  -0.196254  -0.010129  -0.030586   \n",
       "2   0.048570   0.091281   0.160776  -0.150937   0.020115   0.044117   \n",
       "3   0.039212   0.118388   0.173831  -0.096659  -0.008702   0.061298   \n",
       "4   0.056019   0.170639   0.157917  -0.228605  -0.065965  -0.088732   \n",
       "\n",
       "   feature_7  feature_8  feature_9  feature_10  ...  feature_763  feature_764  \\\n",
       "0  -0.073593  -0.005386  -0.212557    0.099683  ...    -0.085248    -0.096007   \n",
       "1   0.067114  -0.072412  -0.239192    0.104741  ...    -0.090283    -0.053885   \n",
       "2  -0.050092  -0.045661  -0.155332    0.117206  ...    -0.021524    -0.008411   \n",
       "3   0.008974  -0.003277  -0.065046    0.095480  ...    -0.071936    -0.023120   \n",
       "4  -0.082243  -0.080568  -0.341500    0.142430  ...    -0.155621    -0.079447   \n",
       "\n",
       "   feature_765  feature_766  feature_767  feature_768  label_1  label_2  \\\n",
       "0    -0.000766     0.021399    -0.041432     0.094806       45      NaN   \n",
       "1    -0.010967     0.062209    -0.122958     0.192949       45      NaN   \n",
       "2    -0.006248     0.031468    -0.056915     0.154731       45      NaN   \n",
       "3    -0.007812     0.057600    -0.121892     0.072796       45      NaN   \n",
       "4     0.015316     0.127726    -0.151966     0.169634       45      NaN   \n",
       "\n",
       "   label_3  label_4  \n",
       "0        1        6  \n",
       "1        1        6  \n",
       "2        1        6  \n",
       "3        1        6  \n",
       "4        1        6  \n",
       "\n",
       "[5 rows x 772 columns]"
      ]
     },
     "execution_count": 4,
     "metadata": {},
     "output_type": "execute_result"
    }
   ],
   "source": [
    "train_data.head()"
   ]
  },
  {
   "cell_type": "code",
   "execution_count": 5,
   "metadata": {
    "colab": {
     "base_uri": "https://localhost:8080/",
     "height": 255
    },
    "id": "F8ONSTT5SkET",
    "outputId": "de02c9ea-18b3-4d32-9fe4-e49437929d4b"
   },
   "outputs": [
    {
     "data": {
      "text/html": [
       "<div>\n",
       "<style scoped>\n",
       "    .dataframe tbody tr th:only-of-type {\n",
       "        vertical-align: middle;\n",
       "    }\n",
       "\n",
       "    .dataframe tbody tr th {\n",
       "        vertical-align: top;\n",
       "    }\n",
       "\n",
       "    .dataframe thead th {\n",
       "        text-align: right;\n",
       "    }\n",
       "</style>\n",
       "<table border=\"1\" class=\"dataframe\">\n",
       "  <thead>\n",
       "    <tr style=\"text-align: right;\">\n",
       "      <th></th>\n",
       "      <th>feature_1</th>\n",
       "      <th>feature_2</th>\n",
       "      <th>feature_3</th>\n",
       "      <th>feature_4</th>\n",
       "      <th>feature_5</th>\n",
       "      <th>feature_6</th>\n",
       "      <th>feature_7</th>\n",
       "      <th>feature_8</th>\n",
       "      <th>feature_9</th>\n",
       "      <th>feature_10</th>\n",
       "      <th>...</th>\n",
       "      <th>feature_763</th>\n",
       "      <th>feature_764</th>\n",
       "      <th>feature_765</th>\n",
       "      <th>feature_766</th>\n",
       "      <th>feature_767</th>\n",
       "      <th>feature_768</th>\n",
       "      <th>label_1</th>\n",
       "      <th>label_2</th>\n",
       "      <th>label_3</th>\n",
       "      <th>label_4</th>\n",
       "    </tr>\n",
       "  </thead>\n",
       "  <tbody>\n",
       "    <tr>\n",
       "      <th>0</th>\n",
       "      <td>0.153978</td>\n",
       "      <td>0.503276</td>\n",
       "      <td>0.022196</td>\n",
       "      <td>0.226684</td>\n",
       "      <td>0.466179</td>\n",
       "      <td>0.154995</td>\n",
       "      <td>0.195452</td>\n",
       "      <td>-0.288972</td>\n",
       "      <td>-0.297589</td>\n",
       "      <td>-0.008409</td>\n",
       "      <td>...</td>\n",
       "      <td>-0.503624</td>\n",
       "      <td>-0.056849</td>\n",
       "      <td>-0.117077</td>\n",
       "      <td>0.168611</td>\n",
       "      <td>0.373346</td>\n",
       "      <td>0.037188</td>\n",
       "      <td>45</td>\n",
       "      <td>NaN</td>\n",
       "      <td>1</td>\n",
       "      <td>6</td>\n",
       "    </tr>\n",
       "    <tr>\n",
       "      <th>1</th>\n",
       "      <td>0.056877</td>\n",
       "      <td>0.261613</td>\n",
       "      <td>0.050610</td>\n",
       "      <td>0.097744</td>\n",
       "      <td>0.322375</td>\n",
       "      <td>-0.011609</td>\n",
       "      <td>0.201331</td>\n",
       "      <td>-0.194763</td>\n",
       "      <td>-0.194228</td>\n",
       "      <td>-0.094267</td>\n",
       "      <td>...</td>\n",
       "      <td>-0.442110</td>\n",
       "      <td>0.008424</td>\n",
       "      <td>-0.067920</td>\n",
       "      <td>0.165600</td>\n",
       "      <td>0.333104</td>\n",
       "      <td>-0.270913</td>\n",
       "      <td>45</td>\n",
       "      <td>NaN</td>\n",
       "      <td>1</td>\n",
       "      <td>6</td>\n",
       "    </tr>\n",
       "    <tr>\n",
       "      <th>2</th>\n",
       "      <td>0.225439</td>\n",
       "      <td>0.350977</td>\n",
       "      <td>-0.295782</td>\n",
       "      <td>0.280168</td>\n",
       "      <td>0.705114</td>\n",
       "      <td>0.020545</td>\n",
       "      <td>0.390878</td>\n",
       "      <td>-0.322853</td>\n",
       "      <td>0.071575</td>\n",
       "      <td>0.013803</td>\n",
       "      <td>...</td>\n",
       "      <td>-0.380124</td>\n",
       "      <td>-0.089572</td>\n",
       "      <td>-0.023344</td>\n",
       "      <td>0.194312</td>\n",
       "      <td>0.269537</td>\n",
       "      <td>-0.292029</td>\n",
       "      <td>45</td>\n",
       "      <td>NaN</td>\n",
       "      <td>1</td>\n",
       "      <td>6</td>\n",
       "    </tr>\n",
       "    <tr>\n",
       "      <th>3</th>\n",
       "      <td>0.288556</td>\n",
       "      <td>0.513905</td>\n",
       "      <td>-0.205246</td>\n",
       "      <td>0.279660</td>\n",
       "      <td>0.469121</td>\n",
       "      <td>0.068339</td>\n",
       "      <td>0.131205</td>\n",
       "      <td>-0.338951</td>\n",
       "      <td>-0.270848</td>\n",
       "      <td>0.007799</td>\n",
       "      <td>...</td>\n",
       "      <td>-0.529678</td>\n",
       "      <td>-0.093194</td>\n",
       "      <td>-0.148418</td>\n",
       "      <td>0.405543</td>\n",
       "      <td>0.438906</td>\n",
       "      <td>-0.055119</td>\n",
       "      <td>45</td>\n",
       "      <td>NaN</td>\n",
       "      <td>1</td>\n",
       "      <td>6</td>\n",
       "    </tr>\n",
       "    <tr>\n",
       "      <th>4</th>\n",
       "      <td>0.165176</td>\n",
       "      <td>0.312492</td>\n",
       "      <td>-0.217504</td>\n",
       "      <td>0.259960</td>\n",
       "      <td>0.568979</td>\n",
       "      <td>-0.093011</td>\n",
       "      <td>0.257977</td>\n",
       "      <td>-0.277132</td>\n",
       "      <td>-0.172113</td>\n",
       "      <td>-0.025929</td>\n",
       "      <td>...</td>\n",
       "      <td>-0.504997</td>\n",
       "      <td>-0.108256</td>\n",
       "      <td>0.036867</td>\n",
       "      <td>0.267815</td>\n",
       "      <td>0.245041</td>\n",
       "      <td>0.117444</td>\n",
       "      <td>45</td>\n",
       "      <td>NaN</td>\n",
       "      <td>1</td>\n",
       "      <td>6</td>\n",
       "    </tr>\n",
       "  </tbody>\n",
       "</table>\n",
       "<p>5 rows × 772 columns</p>\n",
       "</div>"
      ],
      "text/plain": [
       "   feature_1  feature_2  feature_3  feature_4  feature_5  feature_6  \\\n",
       "0   0.153978   0.503276   0.022196   0.226684   0.466179   0.154995   \n",
       "1   0.056877   0.261613   0.050610   0.097744   0.322375  -0.011609   \n",
       "2   0.225439   0.350977  -0.295782   0.280168   0.705114   0.020545   \n",
       "3   0.288556   0.513905  -0.205246   0.279660   0.469121   0.068339   \n",
       "4   0.165176   0.312492  -0.217504   0.259960   0.568979  -0.093011   \n",
       "\n",
       "   feature_7  feature_8  feature_9  feature_10  ...  feature_763  feature_764  \\\n",
       "0   0.195452  -0.288972  -0.297589   -0.008409  ...    -0.503624    -0.056849   \n",
       "1   0.201331  -0.194763  -0.194228   -0.094267  ...    -0.442110     0.008424   \n",
       "2   0.390878  -0.322853   0.071575    0.013803  ...    -0.380124    -0.089572   \n",
       "3   0.131205  -0.338951  -0.270848    0.007799  ...    -0.529678    -0.093194   \n",
       "4   0.257977  -0.277132  -0.172113   -0.025929  ...    -0.504997    -0.108256   \n",
       "\n",
       "   feature_765  feature_766  feature_767  feature_768  label_1  label_2  \\\n",
       "0    -0.117077     0.168611     0.373346     0.037188       45      NaN   \n",
       "1    -0.067920     0.165600     0.333104    -0.270913       45      NaN   \n",
       "2    -0.023344     0.194312     0.269537    -0.292029       45      NaN   \n",
       "3    -0.148418     0.405543     0.438906    -0.055119       45      NaN   \n",
       "4     0.036867     0.267815     0.245041     0.117444       45      NaN   \n",
       "\n",
       "   label_3  label_4  \n",
       "0        1        6  \n",
       "1        1        6  \n",
       "2        1        6  \n",
       "3        1        6  \n",
       "4        1        6  \n",
       "\n",
       "[5 rows x 772 columns]"
      ]
     },
     "execution_count": 5,
     "metadata": {},
     "output_type": "execute_result"
    }
   ],
   "source": [
    "valid_data.head()"
   ]
  },
  {
   "cell_type": "code",
   "execution_count": 6,
   "metadata": {
    "colab": {
     "base_uri": "https://localhost:8080/",
     "height": 255
    },
    "id": "DbrFHC0dWwE1",
    "outputId": "c8645b4e-35ff-4937-89da-b75a93cfcbdb"
   },
   "outputs": [
    {
     "data": {
      "text/html": [
       "<div>\n",
       "<style scoped>\n",
       "    .dataframe tbody tr th:only-of-type {\n",
       "        vertical-align: middle;\n",
       "    }\n",
       "\n",
       "    .dataframe tbody tr th {\n",
       "        vertical-align: top;\n",
       "    }\n",
       "\n",
       "    .dataframe thead th {\n",
       "        text-align: right;\n",
       "    }\n",
       "</style>\n",
       "<table border=\"1\" class=\"dataframe\">\n",
       "  <thead>\n",
       "    <tr style=\"text-align: right;\">\n",
       "      <th></th>\n",
       "      <th>ID</th>\n",
       "      <th>feature_1</th>\n",
       "      <th>feature_2</th>\n",
       "      <th>feature_3</th>\n",
       "      <th>feature_4</th>\n",
       "      <th>feature_5</th>\n",
       "      <th>feature_6</th>\n",
       "      <th>feature_7</th>\n",
       "      <th>feature_8</th>\n",
       "      <th>feature_9</th>\n",
       "      <th>...</th>\n",
       "      <th>feature_759</th>\n",
       "      <th>feature_760</th>\n",
       "      <th>feature_761</th>\n",
       "      <th>feature_762</th>\n",
       "      <th>feature_763</th>\n",
       "      <th>feature_764</th>\n",
       "      <th>feature_765</th>\n",
       "      <th>feature_766</th>\n",
       "      <th>feature_767</th>\n",
       "      <th>feature_768</th>\n",
       "    </tr>\n",
       "  </thead>\n",
       "  <tbody>\n",
       "    <tr>\n",
       "      <th>0</th>\n",
       "      <td>1</td>\n",
       "      <td>0.124623</td>\n",
       "      <td>0.196628</td>\n",
       "      <td>0.257004</td>\n",
       "      <td>-0.156045</td>\n",
       "      <td>-0.054916</td>\n",
       "      <td>0.006071</td>\n",
       "      <td>-0.035149</td>\n",
       "      <td>-0.092019</td>\n",
       "      <td>-0.196302</td>\n",
       "      <td>...</td>\n",
       "      <td>-0.221466</td>\n",
       "      <td>0.140292</td>\n",
       "      <td>0.123622</td>\n",
       "      <td>-0.175572</td>\n",
       "      <td>-0.107030</td>\n",
       "      <td>-0.087621</td>\n",
       "      <td>-0.026501</td>\n",
       "      <td>0.139337</td>\n",
       "      <td>-0.083030</td>\n",
       "      <td>0.059507</td>\n",
       "    </tr>\n",
       "    <tr>\n",
       "      <th>1</th>\n",
       "      <td>2</td>\n",
       "      <td>0.109655</td>\n",
       "      <td>0.170158</td>\n",
       "      <td>0.227644</td>\n",
       "      <td>-0.127088</td>\n",
       "      <td>-0.044476</td>\n",
       "      <td>-0.046852</td>\n",
       "      <td>-0.090026</td>\n",
       "      <td>-0.061321</td>\n",
       "      <td>-0.227288</td>\n",
       "      <td>...</td>\n",
       "      <td>-0.204930</td>\n",
       "      <td>0.110203</td>\n",
       "      <td>0.085665</td>\n",
       "      <td>-0.286787</td>\n",
       "      <td>-0.113195</td>\n",
       "      <td>-0.057312</td>\n",
       "      <td>-0.055680</td>\n",
       "      <td>0.143939</td>\n",
       "      <td>-0.045760</td>\n",
       "      <td>0.106113</td>\n",
       "    </tr>\n",
       "    <tr>\n",
       "      <th>2</th>\n",
       "      <td>3</td>\n",
       "      <td>0.014854</td>\n",
       "      <td>0.030051</td>\n",
       "      <td>0.115092</td>\n",
       "      <td>-0.017179</td>\n",
       "      <td>0.002720</td>\n",
       "      <td>-0.011692</td>\n",
       "      <td>-0.078855</td>\n",
       "      <td>-0.042991</td>\n",
       "      <td>-0.096283</td>\n",
       "      <td>...</td>\n",
       "      <td>-0.032937</td>\n",
       "      <td>0.075821</td>\n",
       "      <td>0.030987</td>\n",
       "      <td>-0.149850</td>\n",
       "      <td>-0.003155</td>\n",
       "      <td>-0.010207</td>\n",
       "      <td>-0.001427</td>\n",
       "      <td>0.000934</td>\n",
       "      <td>-0.017069</td>\n",
       "      <td>0.048123</td>\n",
       "    </tr>\n",
       "    <tr>\n",
       "      <th>3</th>\n",
       "      <td>4</td>\n",
       "      <td>0.196893</td>\n",
       "      <td>0.113314</td>\n",
       "      <td>0.352175</td>\n",
       "      <td>-0.108499</td>\n",
       "      <td>-0.064472</td>\n",
       "      <td>-0.073239</td>\n",
       "      <td>-0.086402</td>\n",
       "      <td>0.008671</td>\n",
       "      <td>-0.342217</td>\n",
       "      <td>...</td>\n",
       "      <td>-0.255167</td>\n",
       "      <td>0.096579</td>\n",
       "      <td>0.069413</td>\n",
       "      <td>-0.215386</td>\n",
       "      <td>-0.075168</td>\n",
       "      <td>-0.035071</td>\n",
       "      <td>-0.023375</td>\n",
       "      <td>0.067768</td>\n",
       "      <td>-0.181530</td>\n",
       "      <td>0.174444</td>\n",
       "    </tr>\n",
       "    <tr>\n",
       "      <th>4</th>\n",
       "      <td>5</td>\n",
       "      <td>0.033004</td>\n",
       "      <td>0.013373</td>\n",
       "      <td>0.124001</td>\n",
       "      <td>-0.016143</td>\n",
       "      <td>0.010120</td>\n",
       "      <td>0.010635</td>\n",
       "      <td>-0.055789</td>\n",
       "      <td>-0.036282</td>\n",
       "      <td>-0.059422</td>\n",
       "      <td>...</td>\n",
       "      <td>-0.035814</td>\n",
       "      <td>0.093764</td>\n",
       "      <td>0.027321</td>\n",
       "      <td>-0.116009</td>\n",
       "      <td>0.010096</td>\n",
       "      <td>-0.042293</td>\n",
       "      <td>0.005347</td>\n",
       "      <td>0.007722</td>\n",
       "      <td>-0.007731</td>\n",
       "      <td>0.058799</td>\n",
       "    </tr>\n",
       "  </tbody>\n",
       "</table>\n",
       "<p>5 rows × 769 columns</p>\n",
       "</div>"
      ],
      "text/plain": [
       "   ID  feature_1  feature_2  feature_3  feature_4  feature_5  feature_6  \\\n",
       "0   1   0.124623   0.196628   0.257004  -0.156045  -0.054916   0.006071   \n",
       "1   2   0.109655   0.170158   0.227644  -0.127088  -0.044476  -0.046852   \n",
       "2   3   0.014854   0.030051   0.115092  -0.017179   0.002720  -0.011692   \n",
       "3   4   0.196893   0.113314   0.352175  -0.108499  -0.064472  -0.073239   \n",
       "4   5   0.033004   0.013373   0.124001  -0.016143   0.010120   0.010635   \n",
       "\n",
       "   feature_7  feature_8  feature_9  ...  feature_759  feature_760  \\\n",
       "0  -0.035149  -0.092019  -0.196302  ...    -0.221466     0.140292   \n",
       "1  -0.090026  -0.061321  -0.227288  ...    -0.204930     0.110203   \n",
       "2  -0.078855  -0.042991  -0.096283  ...    -0.032937     0.075821   \n",
       "3  -0.086402   0.008671  -0.342217  ...    -0.255167     0.096579   \n",
       "4  -0.055789  -0.036282  -0.059422  ...    -0.035814     0.093764   \n",
       "\n",
       "   feature_761  feature_762  feature_763  feature_764  feature_765  \\\n",
       "0     0.123622    -0.175572    -0.107030    -0.087621    -0.026501   \n",
       "1     0.085665    -0.286787    -0.113195    -0.057312    -0.055680   \n",
       "2     0.030987    -0.149850    -0.003155    -0.010207    -0.001427   \n",
       "3     0.069413    -0.215386    -0.075168    -0.035071    -0.023375   \n",
       "4     0.027321    -0.116009     0.010096    -0.042293     0.005347   \n",
       "\n",
       "   feature_766  feature_767  feature_768  \n",
       "0     0.139337    -0.083030     0.059507  \n",
       "1     0.143939    -0.045760     0.106113  \n",
       "2     0.000934    -0.017069     0.048123  \n",
       "3     0.067768    -0.181530     0.174444  \n",
       "4     0.007722    -0.007731     0.058799  \n",
       "\n",
       "[5 rows x 769 columns]"
      ]
     },
     "execution_count": 6,
     "metadata": {},
     "output_type": "execute_result"
    }
   ],
   "source": [
    "test_data.head()"
   ]
  },
  {
   "cell_type": "markdown",
   "metadata": {
    "id": "rgfJPL3YW7Gv"
   },
   "source": [
    "Drop the ID column from the test dataset"
   ]
  },
  {
   "cell_type": "code",
   "execution_count": 7,
   "metadata": {
    "id": "C0z6hL0jWycN"
   },
   "outputs": [],
   "source": [
    "test_IDs = test_data['ID'].to_numpy()\n",
    "test_data = test_data.drop(columns=['ID'])"
   ]
  },
  {
   "cell_type": "markdown",
   "metadata": {
    "id": "7La420gAYKtb"
   },
   "source": [
    "Prepare training and validation data for each label"
   ]
  },
  {
   "cell_type": "code",
   "execution_count": 8,
   "metadata": {
    "id": "mLiwYHqRX6uO"
   },
   "outputs": [],
   "source": [
    "train_data_label1 = train_data.drop(columns=['label_2', 'label_3', 'label_4'])\n",
    "train_data_label2 = train_data.drop(columns=['label_1', 'label_3', 'label_4'])\n",
    "train_data_label3 = train_data.drop(columns=['label_1', 'label_2', 'label_4'])\n",
    "train_data_label4 = train_data.drop(columns=['label_1', 'label_2', 'label_3'])\n",
    "\n",
    "valid_data_label1 = valid_data.drop(columns=['label_2', 'label_3', 'label_4'])\n",
    "valid_data_label2 = valid_data.drop(columns=['label_1', 'label_3', 'label_4'])\n",
    "valid_data_label3 = valid_data.drop(columns=['label_1', 'label_2', 'label_4'])\n",
    "valid_data_label4 = valid_data.drop(columns=['label_1', 'label_2', 'label_3'])"
   ]
  },
  {
   "cell_type": "markdown",
   "metadata": {
    "id": "89ITqDiq-upk"
   },
   "source": [
    "# Define Functions"
   ]
  },
  {
   "cell_type": "markdown",
   "metadata": {
    "id": "K5EVQB5zAuo8"
   },
   "source": [
    "## Feature Engineering"
   ]
  },
  {
   "cell_type": "markdown",
   "metadata": {
    "id": "bAO1u_SM_RvG"
   },
   "source": [
    "> *Train a model to predict the label 01 after appling some feature engineering techniques and methods to the training data.\n",
    "Features are selected based on the correlation matrix and the PCA used to extract the features*"
   ]
  },
  {
   "cell_type": "markdown",
   "metadata": {
    "id": "X0_4PjoBAocZ"
   },
   "source": [
    "### Data Cleaning"
   ]
  },
  {
   "cell_type": "markdown",
   "metadata": {
    "id": "qGVPy9vKBBMR"
   },
   "source": [
    "\n",
    "\n",
    "> Remove null values for labels and determine missing values in features\n"
   ]
  },
  {
   "cell_type": "markdown",
   "metadata": {
    "id": "GauDtDG8F6i7"
   },
   "source": [
    "**Drop** the rows where there are null values for the lables in the training dataset"
   ]
  },
  {
   "cell_type": "code",
   "execution_count": 9,
   "metadata": {
    "colab": {
     "base_uri": "https://localhost:8080/"
    },
    "id": "jTPGeSE6YZ_e",
    "outputId": "57b489ce-11a0-41c7-ac89-9f7336795878"
   },
   "outputs": [],
   "source": [
    "def clean_null_labels(train_data_label1, label):\n",
    "    print(\"Train set shape before: {}\".format(train_data_label1.shape))\n",
    "\n",
    "    train_features_null_counts = train_data_label1.drop(columns=[f'label_{label}']).isnull().sum()\n",
    "    train_label_null_count = train_data_label1[f'label_{label}'].isnull().sum()\n",
    "    print(\"Null value counts of the features\\n{}\".format(train_features_null_counts))\n",
    "    print(\"Null value count: {}\".format(train_label_null_count))\n",
    "\n",
    "    cleaned = train_data_label1.dropna(subset=train_data_label1.columns[-1:], how='any')\n",
    "    print(\"Train set shape after: {}\".format(cleaned.shape))\n",
    "    return cleaned"
   ]
  },
  {
   "cell_type": "markdown",
   "metadata": {
    "id": "mu4qF7_jFsna"
   },
   "source": [
    "Fill the null values in the features with their **means** in the datasets."
   ]
  },
  {
   "cell_type": "code",
   "execution_count": 10,
   "metadata": {
    "id": "XERatcIdCDUD"
   },
   "outputs": [],
   "source": [
    "def fill_null_features(train_data_label1, valid_data_label1, test_data):\n",
    "    train_data_label1 = train_data_label1.fillna(train_data_label1.mean())\n",
    "    valid_data_label1 = valid_data_label1.fillna(valid_data_label1.mean())\n",
    "    test_data = test_data.fillna(test_data.mean())\n",
    "    return train_data_label1, valid_data_label1, test_data"
   ]
  },
  {
   "cell_type": "markdown",
   "metadata": {
    "id": "GXncTN4iGSCq"
   },
   "source": [
    "Split the Features and Labels in the dataset"
   ]
  },
  {
   "cell_type": "code",
   "execution_count": 11,
   "metadata": {
    "id": "QgrscOI8GK7N"
   },
   "outputs": [],
   "source": [
    "def split_features_labels(train_data_label1, valid_data_label1, test_data, label):\n",
    "    train_features_label1 = train_data_label1.iloc[:, :-1]\n",
    "    train_label1 = train_data_label1[f'label_{label}']\n",
    "\n",
    "    valid_features_label1 = valid_data_label1.iloc[:, :-1]\n",
    "    valid_label1 = valid_data_label1[f'label_{label}']\n",
    "\n",
    "    test_features_label1 = test_data\n",
    "    return train_features_label1, train_label1, valid_features_label1, valid_label1, test_features_label1"
   ]
  },
  {
   "cell_type": "markdown",
   "metadata": {
    "id": "0aM68t1rHePY"
   },
   "source": [
    "Label 01 distribution after cleaning"
   ]
  },
  {
   "cell_type": "code",
   "execution_count": 12,
   "metadata": {
    "colab": {
     "base_uri": "https://localhost:8080/",
     "height": 321
    },
    "id": "0m7qU-KYGt4G",
    "outputId": "6bcb05af-bb47-4ae4-8816-62b2bf6e795a"
   },
   "outputs": [],
   "source": [
    "def plot_label(train_label1, label):    \n",
    "    labels, counts = np.unique(train_label1, return_counts=True)\n",
    "\n",
    "    plt.figure(figsize=(18, 3))\n",
    "    plt.xticks(labels)\n",
    "    plt.bar(labels, counts)\n",
    "    plt.xlabel(f'label_{label}')\n",
    "    plt.ylabel('Frequency')\n",
    "    plt.title('Distribution of the Label')\n",
    "    plt.show()"
   ]
  },
  {
   "cell_type": "markdown",
   "metadata": {
    "id": "SzlcHhaPIHQx"
   },
   "source": [
    "### Feature Standardization"
   ]
  },
  {
   "cell_type": "markdown",
   "metadata": {
    "id": "_-mu8uhsIS_q"
   },
   "source": [
    "> Standardize the features of the dataset using **Robust scaler**"
   ]
  },
  {
   "cell_type": "code",
   "execution_count": 13,
   "metadata": {
    "id": "23WWgkXYHcvy"
   },
   "outputs": [],
   "source": [
    "def standardize_data(train_features_label1, valid_features_label1, test_features_label1, scaler=StandardScaler()): \n",
    "    standardized_train_features_label1 = scaler.fit_transform(train_features_label1)\n",
    "    standardized_valid_features_label1 = scaler.transform(valid_features_label1)\n",
    "    standardized_test_features_label1 = scaler.transform(test_features_label1)\n",
    "    return standardized_train_features_label1, standardized_valid_features_label1, standardized_test_features_label1"
   ]
  },
  {
   "cell_type": "markdown",
   "metadata": {
    "id": "fb8ymUTbIo_m"
   },
   "source": [
    "### Feature Extraction"
   ]
  },
  {
   "cell_type": "markdown",
   "metadata": {
    "id": "53vt06AyIvnr"
   },
   "source": [
    "> Principal Componenet Analysis(PCA) used to extract the features that can explain the variance of the label to 95% and display the resulting explained variances of each PC"
   ]
  },
  {
   "cell_type": "code",
   "execution_count": 14,
   "metadata": {
    "colab": {
     "base_uri": "https://localhost:8080/",
     "height": 906
    },
    "id": "UKZT8yQZIhEr",
    "outputId": "2391cce2-b13d-4ab7-db9b-369eec1d7fdb"
   },
   "outputs": [],
   "source": [
    "def apply_PCA(standardized_train_features_label1, standardized_valid_features_label1, standardized_test_features_label1, variance_threshold):\n",
    "\n",
    "    pca = PCA(n_components=variance_threshold, svd_solver='full')\n",
    "\n",
    "    pca_train_features_label1 = pca.fit_transform(standardized_train_features_label1)\n",
    "    pca_valid_features_label1 = pca.transform(standardized_valid_features_label1)\n",
    "    pca_test_features_label1 = pca.transform(standardized_test_features_label1)\n",
    "\n",
    "    explained_variance_ratio_reduced = pca.explained_variance_ratio_\n",
    "\n",
    "    plt.figure(figsize=(18, 10))\n",
    "    plt.bar(range(1, pca_train_features_label1.shape[1] + 1), explained_variance_ratio_reduced)\n",
    "    plt.xlabel('Principal Component')\n",
    "    plt.ylabel('Explained Variance Ratio')\n",
    "    plt.title('Explained Variance Ratio per Principal Component (Reduced)')\n",
    "    plt.show()\n",
    "\n",
    "    print(\"\\nReduced Train feature matrix shape: {}\".format(pca_train_features_label1.shape))\n",
    "    print(\"Reduced valid feature matrix shape: {}\".format(pca_valid_features_label1.shape))\n",
    "    print(\"Reduced test feature matrix shape: {}\".format(pca_test_features_label1.shape))\n",
    "    \n",
    "    return pca_train_features_label1, pca_valid_features_label1, pca_test_features_label1"
   ]
  },
  {
   "cell_type": "markdown",
   "metadata": {
    "id": "iG5x5ozpHIzs"
   },
   "source": [
    "## Hyperparameter tuning"
   ]
  },
  {
   "cell_type": "markdown",
   "metadata": {
    "id": "qsOhUhRFHmHe"
   },
   "source": [
    "Define parameters for random search"
   ]
  },
  {
   "cell_type": "code",
   "execution_count": 18,
   "metadata": {
    "id": "-QzNxRu2Hjxg"
   },
   "outputs": [],
   "source": [
    "def get_hyper_params():\n",
    "    svm_grid_params = {\n",
    "        'C': [0.1, 1, 10, 100, 1000],\n",
    "        'gamma': [1, 0.1, 0.01, 0.001, 0.0001],\n",
    "        'kernel': ['rbf','linear']\n",
    "    }\n",
    "\n",
    "    knn_grid_params = {\n",
    "        'n_neighbors' : [3, 5, 7, 9, 11, 13],\n",
    "        'weights' : ['uniform', 'distance'],\n",
    "        'metric' : ['minkowski', 'euclidean', 'manhattan', 'hamming']\n",
    "    }\n",
    "\n",
    "    random_forest_grid_params = {\n",
    "        'bootstrap': [True, False],\n",
    "        'max_depth': [10, 20, 30, 40, 50, 60, 70, 80, 90, 100, None],\n",
    "        'max_features': ['auto', 'sqrt'],\n",
    "        'min_samples_leaf': [1, 2, 4],\n",
    "        'min_samples_split': [2, 5, 10],\n",
    "        'n_estimators': [200, 400, 600, 800, 1000, 1200, 1400, 1600, 1800, 2000]\n",
    "    }\n",
    "    return svm_grid_params, knn_grid_params, random_forest_grid_params"
   ]
  },
  {
   "cell_type": "markdown",
   "metadata": {
    "id": "qGKKVOGDa2x6"
   },
   "source": [
    "Tune hyperparameters with the best method by testing severel methods and for several models"
   ]
  },
  {
   "cell_type": "code",
   "execution_count": 19,
   "metadata": {
    "colab": {
     "base_uri": "https://localhost:8080/"
    },
    "id": "6heHCySOa_rz",
    "outputId": "ef84867f-08c2-4612-a030-62b0beeffe1f"
   },
   "outputs": [],
   "source": [
    "def tune_hyper_params(svm_grid_params, knn_grid_params, rf_grid_params, pca_train_features_label1, train_label1, rand=True):\n",
    "    classification_models_params = [\n",
    "        ('SVM', SVC(), svm_grid_params),\n",
    "    #     ('K Neighbors', KNeighborsClassifier(), knn_grid_params),\n",
    "    #     ('Random Forest', RandomForestClassifier(), rf_grid_params)\n",
    "    ]\n",
    "\n",
    "    for model_name, model, grid_params in classification_models_params:\n",
    "        if rand:\n",
    "            search = RandomizedSearchCV(\n",
    "                estimator = model,\n",
    "                param_distributions = grid_params,\n",
    "                n_iter = 40, cv = 3, verbose=4, random_state=42, n_jobs = -1\n",
    "            )\n",
    "        else:\n",
    "            search = HalvingGridSearchCV(\n",
    "                estimator=model,\n",
    "                param_grid=grid_params,\n",
    "                cv=3,\n",
    "                n_jobs=-1,\n",
    "                factor=2,\n",
    "                verbose=2\n",
    "            )\n",
    "        result = search.fit(pca_train_features_label1, train_label1)\n",
    "\n",
    "        print(f\"best score for {model_name} : {result.best_score_}\")\n",
    "        print(f\"best hyper parameters for {model_name} : {result.best_params_}\")"
   ]
  },
  {
   "cell_type": "markdown",
   "metadata": {},
   "source": [
    "## Train the best performing model"
   ]
  },
  {
   "cell_type": "markdown",
   "metadata": {},
   "source": [
    "Select the model that best predicts the valid and test datasets based on accuracy, precision and recall and train"
   ]
  },
  {
   "cell_type": "code",
   "execution_count": 20,
   "metadata": {
    "colab": {
     "base_uri": "https://localhost:8080/"
    },
    "id": "6HwLQtcazyUa",
    "outputId": "33d08be7-b9eb-4d19-e0fa-4e22f9fb5dc4"
   },
   "outputs": [],
   "source": [
    "def train_model(pca_train_features_label1, train_label1, pca_valid_features_label1, valid_label1, svm=None, rf=None, knn=None):\n",
    "    classification_models = [\n",
    "        # ('K Neighbors', knn),\n",
    "        # ('Random Forest', rf),\n",
    "        ('SVM', svm)\n",
    "        \n",
    "    ]\n",
    "    \n",
    "    models = []\n",
    "\n",
    "    for model_name, model in classification_models:\n",
    "        num_features = pca_train_features_label1.shape[1]\n",
    "        print(f\"{model_name} is training for {num_features} number of features\\n\")\n",
    "        \n",
    "        models.append(model)\n",
    "        kf = KFold(n_splits=3, random_state=42, shuffle=True)\n",
    "        cross_val_scores = cross_val_score(model, pca_train_features_label1, train_label1, cv=kf, verbose=4)\n",
    "\n",
    "        print(\"CV Accuracy: %0.4f accuracy with a standard deviation of %0.2f\" % (cross_val_scores.mean(), cross_val_scores.std()))\n",
    "        print(\"\\n\")\n",
    "    \n",
    "    return models"
   ]
  },
  {
   "cell_type": "code",
   "execution_count": 21,
   "metadata": {},
   "outputs": [],
   "source": [
    "def get_test_result(pca_train_features_label1, train_label1, pca_test_features_label1, model): \n",
    "    model.fit(pca_train_features_label1, train_label1)\n",
    "    return model.predict(pca_test_features_label1)"
   ]
  },
  {
   "cell_type": "code",
   "execution_count": 22,
   "metadata": {},
   "outputs": [],
   "source": [
    "def create_csv(ID, pred_label1, destination):\n",
    "  df = pd.DataFrame()\n",
    "\n",
    "  df.insert(loc=0, column='ID', value=ID)\n",
    "  df.insert(loc=1, column='label_1', value=pred_label1)\n",
    "\n",
    "  df.to_csv(destination, index=False)"
   ]
  },
  {
   "cell_type": "markdown",
   "metadata": {},
   "source": [
    "# Label 01"
   ]
  },
  {
   "cell_type": "code",
   "execution_count": 23,
   "metadata": {},
   "outputs": [
    {
     "name": "stdout",
     "output_type": "stream",
     "text": [
      "Train set shape before: (28520, 769)\n",
      "Null value counts of the features\n",
      "feature_1      0\n",
      "feature_2      0\n",
      "feature_3      0\n",
      "feature_4      0\n",
      "feature_5      0\n",
      "              ..\n",
      "feature_764    0\n",
      "feature_765    0\n",
      "feature_766    0\n",
      "feature_767    0\n",
      "feature_768    0\n",
      "Length: 768, dtype: int64\n",
      "Null value count: 0\n",
      "Train set shape after: (28520, 769)\n"
     ]
    },
    {
     "data": {
      "image/png": "[encoded data removed]",
      "text/plain": [
       "<Figure size 1800x300 with 1 Axes>"
      ]
     },
     "metadata": {},
     "output_type": "display_data"
    }
   ],
   "source": [
    "train_data_label1 = clean_null_labels(train_data_label1, 1)\n",
    "train_data_label1, valid_data_label1, test_data = fill_null_features(train_data_label1, valid_data_label1, test_data)\n",
    "train_features_label1, train_label1, valid_features_label1, valid_label1, test_features_label1 = split_features_labels(train_data_label1, valid_data_label1, test_data, 1)\n",
    "plot_label(train_label1, 1)"
   ]
  },
  {
   "cell_type": "code",
   "execution_count": 24,
   "metadata": {},
   "outputs": [],
   "source": [
    "standardized_train_features_label1, standardized_valid_features_label1, standardized_test_features_label1 = standardize_data(train_features_label1, valid_features_label1, test_features_label1, StandardScaler())"
   ]
  },
  {
   "cell_type": "code",
   "execution_count": 25,
   "metadata": {},
   "outputs": [
    {
     "data": {
      "image/png": "[encoded data removed]",
      "text/plain": [
       "<Figure size 1800x1000 with 1 Axes>"
      ]
     },
     "metadata": {},
     "output_type": "display_data"
    },
    {
     "name": "stdout",
     "output_type": "stream",
     "text": [
      "\n",
      "Reduced Train feature matrix shape: (28520, 386)\n",
      "Reduced valid feature matrix shape: (750, 386)\n",
      "Reduced test feature matrix shape: (744, 386)\n"
     ]
    }
   ],
   "source": [
    "pca_train_features_label1, pca_valid_features_label1, pca_test_features_label1 = apply_PCA(standardized_train_features_label1, standardized_valid_features_label1, standardized_test_features_label1, 0.99)"
   ]
  },
  {
   "cell_type": "code",
   "execution_count": null,
   "metadata": {},
   "outputs": [],
   "source": [
    "# svm_grid_params, knn_grid_params, random_forest_grid_params = get_hyper_params()\n",
    "# tune_hyper_params(svm_grid_params, knn_grid_params, random_forest_grid_params, pca_train_features_label1, train_label1, rand=True)"
   ]
  },
  {
   "cell_type": "code",
   "execution_count": 26,
   "metadata": {},
   "outputs": [
    {
     "name": "stdout",
     "output_type": "stream",
     "text": [
      "SVM is training for 768 number of features\n",
      "\n",
      "[CV] END ................................ score: (test=0.937) total time= 2.5min\n",
      "[CV] END ................................ score: (test=0.941) total time= 2.4min\n",
      "[CV] END ................................ score: (test=0.934) total time= 2.5min\n",
      "[CV] END ................................ score: (test=0.933) total time= 2.4min\n",
      "[CV] END ................................ score: (test=0.932) total time= 2.5min\n",
      "CV Accuracy: 0.9354 accuracy with a standard deviation of 0.00\n",
      "\n",
      "\n"
     ]
    }
   ],
   "source": [
    "model1 = train_model(standardized_train_features_label1, train_label1, standardized_valid_features_label1, valid_label1, SVC(C=100, gamma=0.001, kernel='rbf', class_weight='balanced'))"
   ]
  },
  {
   "cell_type": "code",
   "execution_count": 28,
   "metadata": {},
   "outputs": [],
   "source": [
    "y_pred_test_label1 = get_test_result(standardized_train_features_label1, train_label1, standardized_test_features_label1, model1[0])"
   ]
  },
  {
   "cell_type": "code",
   "execution_count": 34,
   "metadata": {},
   "outputs": [],
   "source": [
    "destination = 'D:\\\\ACADEMIC\\\\SEMESTER 07\\\\ML - 3\\\\project\\\\Layer12\\\\results\\\\01.csv'\n",
    "\n",
    "create_csv(test_IDs, y_pred_test_label1, destination)"
   ]
  },
  {
   "cell_type": "markdown",
   "metadata": {},
   "source": [
    "# Label 02"
   ]
  },
  {
   "cell_type": "code",
   "execution_count": 23,
   "metadata": {},
   "outputs": [
    {
     "name": "stdout",
     "output_type": "stream",
     "text": [
      "Train set shape before: (28520, 769)\n",
      "Null value counts of the features\n",
      "feature_1      0\n",
      "feature_2      0\n",
      "feature_3      0\n",
      "feature_4      0\n",
      "feature_5      0\n",
      "              ..\n",
      "feature_764    0\n",
      "feature_765    0\n",
      "feature_766    0\n",
      "feature_767    0\n",
      "feature_768    0\n",
      "Length: 768, dtype: int64\n",
      "Null value count: 480\n",
      "Train set shape after: (28040, 769)\n"
     ]
    },
    {
     "data": {
      "image/png": "[encoded data removed]",
      "text/plain": [
       "<Figure size 1800x300 with 1 Axes>"
      ]
     },
     "metadata": {},
     "output_type": "display_data"
    }
   ],
   "source": [
    "train_data_label2 = clean_null_labels(train_data_label2, 2)\n",
    "train_data_label2, valid_data_label2, test_data = fill_null_features(train_data_label2, valid_data_label2, test_data)\n",
    "train_features_label2, train_label2, valid_features_label2, valid_label2, test_features_label2 = split_features_labels(train_data_label2, valid_data_label2, test_data, 2)\n",
    "plot_label(train_label2, 2)"
   ]
  },
  {
   "cell_type": "code",
   "execution_count": 24,
   "metadata": {},
   "outputs": [],
   "source": [
    "standardized_train_features_label2, standardized_valid_features_label2, standardized_test_features_label2 = standardize_data(train_features_label2, valid_features_label2, test_features_label2, StandardScaler())"
   ]
  },
  {
   "cell_type": "code",
   "execution_count": 25,
   "metadata": {},
   "outputs": [
    {
     "data": {
      "image/png": "[encoded data removed]",
      "text/plain": [
       "<Figure size 1800x1000 with 1 Axes>"
      ]
     },
     "metadata": {},
     "output_type": "display_data"
    },
    {
     "name": "stdout",
     "output_type": "stream",
     "text": [
      "\n",
      "Reduced Train feature matrix shape: (28040, 385)\n",
      "Reduced valid feature matrix shape: (750, 385)\n",
      "Reduced test feature matrix shape: (744, 385)\n"
     ]
    }
   ],
   "source": [
    "pca_train_features_label2, pca_valid_features_label2, pca_test_features_label2 = apply_PCA(standardized_train_features_label2, standardized_valid_features_label2, standardized_test_features_label2, 0.99)"
   ]
  },
  {
   "cell_type": "code",
   "execution_count": 26,
   "metadata": {},
   "outputs": [],
   "source": [
    "# svm_grid_params, knn_grid_params, random_forest_grid_params = get_hyper_params()\n",
    "# tune_hyper_params(svm_grid_params, knn_grid_params, random_forest_grid_params, pca_train_features_label2, train_label2, rand=True)"
   ]
  },
  {
   "cell_type": "code",
   "execution_count": 32,
   "metadata": {},
   "outputs": [
    {
     "name": "stdout",
     "output_type": "stream",
     "text": [
      "SVM is training for 768 number of features\n",
      "\n",
      "[CV] END ................................ score: (test=0.886) total time= 3.3min\n",
      "[CV] END ................................ score: (test=0.886) total time= 3.3min\n",
      "[CV] END ................................ score: (test=0.882) total time= 3.0min\n",
      "CV Accuracy: 0.8847 accuracy with a standard deviation of 0.00\n",
      "\n",
      "\n"
     ]
    }
   ],
   "source": [
    "model2 = train_model(standardized_train_features_label2, train_label2, standardized_valid_features_label2, valid_label2, SVC(C=100, gamma=0.001, kernel='rbf', class_weight='balanced'))"
   ]
  },
  {
   "cell_type": "code",
   "execution_count": 33,
   "metadata": {},
   "outputs": [],
   "source": [
    "y_pred_test_label2 = get_test_result(standardized_train_features_label2, train_label2, standardized_test_features_label2, model2[0])"
   ]
  },
  {
   "cell_type": "code",
   "execution_count": 34,
   "metadata": {},
   "outputs": [],
   "source": [
    "destination = 'D:\\\\ACADEMIC\\\\SEMESTER 07\\\\ML - 3\\\\project\\\\Layer12\\\\results\\\\02.csv'\n",
    "\n",
    "create_csv(test_IDs, y_pred_test_label2, destination)"
   ]
  },
  {
   "cell_type": "markdown",
   "metadata": {},
   "source": [
    "# Label 03"
   ]
  },
  {
   "cell_type": "code",
   "execution_count": 23,
   "metadata": {},
   "outputs": [
    {
     "name": "stdout",
     "output_type": "stream",
     "text": [
      "Train set shape before: (28520, 769)\n",
      "Null value counts of the features\n",
      "feature_1      0\n",
      "feature_2      0\n",
      "feature_3      0\n",
      "feature_4      0\n",
      "feature_5      0\n",
      "              ..\n",
      "feature_764    0\n",
      "feature_765    0\n",
      "feature_766    0\n",
      "feature_767    0\n",
      "feature_768    0\n",
      "Length: 768, dtype: int64\n",
      "Null value count: 0\n",
      "Train set shape after: (28520, 769)\n"
     ]
    },
    {
     "data": {
      "image/png": "[encoded data removed]",
      "text/plain": [
       "<Figure size 1800x300 with 1 Axes>"
      ]
     },
     "metadata": {},
     "output_type": "display_data"
    }
   ],
   "source": [
    "train_data_label3 = clean_null_labels(train_data_label3, 3)\n",
    "train_data_label3, valid_data_label3, test_data = fill_null_features(train_data_label3, valid_data_label3, test_data)\n",
    "train_features_label3, train_label3, valid_features_label3, valid_label3, test_features_label3 = split_features_labels(train_data_label3, valid_data_label3, test_data, 3)\n",
    "plot_label(train_label3, 3)"
   ]
  },
  {
   "cell_type": "code",
   "execution_count": 24,
   "metadata": {},
   "outputs": [],
   "source": [
    "standardized_train_features_label3, standardized_valid_features_label3, standardized_test_features_label3 = standardize_data(train_features_label3, valid_features_label3, test_features_label3, StandardScaler())"
   ]
  },
  {
   "cell_type": "code",
   "execution_count": 25,
   "metadata": {},
   "outputs": [
    {
     "data": {
      "image/png": "[encoded data removed]",
      "text/plain": [
       "<Figure size 1800x1000 with 1 Axes>"
      ]
     },
     "metadata": {},
     "output_type": "display_data"
    },
    {
     "name": "stdout",
     "output_type": "stream",
     "text": [
      "\n",
      "Reduced Train feature matrix shape: (28520, 386)\n",
      "Reduced valid feature matrix shape: (750, 386)\n",
      "Reduced test feature matrix shape: (744, 386)\n"
     ]
    }
   ],
   "source": [
    "pca_train_features_label3, pca_valid_features_label3, pca_test_features_label3 = apply_PCA(standardized_train_features_label3, standardized_valid_features_label3, standardized_test_features_label3, 0.99)"
   ]
  },
  {
   "cell_type": "code",
   "execution_count": null,
   "metadata": {},
   "outputs": [],
   "source": [
    "# svm_grid_params, knn_grid_params, random_forest_grid_params = get_hyper_params()\n",
    "# tune_hyper_params(svm_grid_params, knn_grid_params, random_forest_grid_params, pca_train_features_label3, train_label3, rand=True)"
   ]
  },
  {
   "cell_type": "code",
   "execution_count": 26,
   "metadata": {},
   "outputs": [
    {
     "name": "stdout",
     "output_type": "stream",
     "text": [
      "SVM is training for 768 number of features\n",
      "\n",
      "[CV] END ................................ score: (test=0.995) total time=  21.5s\n",
      "[CV] END ................................ score: (test=0.996) total time=  20.8s\n",
      "[CV] END ................................ score: (test=0.995) total time=  19.7s\n",
      "CV Accuracy: 0.9953 accuracy with a standard deviation of 0.00\n",
      "\n",
      "\n"
     ]
    }
   ],
   "source": [
    "model3 = train_model(standardized_train_features_label3, train_label3, standardized_valid_features_label3, valid_label3, SVC(C=100, gamma=0.001, kernel='rbf', class_weight='balanced'))"
   ]
  },
  {
   "cell_type": "code",
   "execution_count": null,
   "metadata": {},
   "outputs": [],
   "source": [
    "y_pred_test_label3 = get_test_result(standardized_train_features_label3, train_label3, standardized_test_features_label3, model3[0])"
   ]
  },
  {
   "cell_type": "code",
   "execution_count": null,
   "metadata": {},
   "outputs": [],
   "source": [
    "destination = 'D:\\\\ACADEMIC\\\\SEMESTER 07\\\\ML - 3\\\\project\\\\Layer12\\\\results\\\\03.csv'\n",
    "\n",
    "create_csv(test_IDs, y_pred_test_label3, destination)"
   ]
  },
  {
   "cell_type": "markdown",
   "metadata": {},
   "source": [
    "# Label 04"
   ]
  },
  {
   "cell_type": "code",
   "execution_count": null,
   "metadata": {},
   "outputs": [
    {
     "name": "stdout",
     "output_type": "stream",
     "text": [
      "Train set shape before: (28520, 769)\n",
      "Null value counts of the features\n",
      "feature_1      0\n",
      "feature_2      0\n",
      "feature_3      0\n",
      "feature_4      0\n",
      "feature_5      0\n",
      "              ..\n",
      "feature_764    0\n",
      "feature_765    0\n",
      "feature_766    0\n",
      "feature_767    0\n",
      "feature_768    0\n",
      "Length: 768, dtype: int64\n",
      "Null value count: 0\n",
      "Train set shape after: (28520, 769)\n"
     ]
    },
    {
     "data": {
      "image/png": "[encoded data removed]",
      "text/plain": [
       "<Figure size 1800x300 with 1 Axes>"
      ]
     },
     "metadata": {},
     "output_type": "display_data"
    }
   ],
   "source": [
    "train_data_label4 = clean_null_labels(train_data_label4, 4)\n",
    "train_data_label4, valid_data_label4, test_data = fill_null_features(train_data_label4, valid_data_label4, test_data)\n",
    "train_features_label4, train_label4, valid_features_label4, valid_label4, test_features_label4 = split_features_labels(train_data_label4, valid_data_label4, test_data, 4)\n",
    "plot_label(train_label4, 4)"
   ]
  },
  {
   "cell_type": "code",
   "execution_count": null,
   "metadata": {},
   "outputs": [],
   "source": [
    "standardized_train_features_label4, standardized_valid_features_label4, standardized_test_features_label4 = standardize_data(train_features_label4, valid_features_label4, test_features_label4, StandardScaler())"
   ]
  },
  {
   "cell_type": "code",
   "execution_count": null,
   "metadata": {},
   "outputs": [
    {
     "data": {
      "image/png": "[encoded data removed]",
      "text/plain": [
       "<Figure size 1800x1000 with 1 Axes>"
      ]
     },
     "metadata": {},
     "output_type": "display_data"
    },
    {
     "name": "stdout",
     "output_type": "stream",
     "text": [
      "\n",
      "Reduced Train feature matrix shape: (28520, 382)\n",
      "Reduced valid feature matrix shape: (750, 382)\n",
      "Reduced test feature matrix shape: (744, 382)\n"
     ]
    }
   ],
   "source": [
    "pca_train_features_label4, pca_valid_features_label4, pca_test_features_label4 = apply_PCA(standardized_train_features_label4, standardized_valid_features_label4, standardized_test_features_label4, 0.99)"
   ]
  },
  {
   "cell_type": "code",
   "execution_count": null,
   "metadata": {},
   "outputs": [],
   "source": [
    "svm_grid_params, knn_grid_params, random_forest_grid_params = get_hyper_params()\n",
    "tune_hyper_params(svm_grid_params, knn_grid_params, random_forest_grid_params, pca_train_features_label4, train_label4, rand=True)"
   ]
  },
  {
   "cell_type": "code",
   "execution_count": null,
   "metadata": {},
   "outputs": [],
   "source": [
    "model4 = train_model(standardized_train_features_label4, train_label4, standardized_valid_features_label4, valid_label4, SVC(C=100, gamma=0.001, kernel='rbf', class_weight='balanced'))"
   ]
  },
  {
   "cell_type": "code",
   "execution_count": null,
   "metadata": {},
   "outputs": [],
   "source": [
    "y_pred_test_label4 = get_test_result(standardized_train_features_label4, train_label4, standardized_test_features_label4, model4[0])"
   ]
  },
  {
   "cell_type": "code",
   "execution_count": null,
   "metadata": {},
   "outputs": [],
   "source": [
    "destination = 'D:\\\\ACADEMIC\\\\SEMESTER 07\\\\ML - 3\\\\project\\\\Layer12\\\\results\\\\04.csv'\n",
    "\n",
    "create_csv(test_IDs, y_pred_test_label4, destination)"
   ]
  },
  {
   "cell_type": "markdown",
   "metadata": {},
   "source": [
    "## Create CSV for all results"
   ]
  },
  {
   "cell_type": "code",
   "execution_count": null,
   "metadata": {},
   "outputs": [],
   "source": [
    "destination = 'D:\\\\ACADEMIC\\\\SEMESTER 07\\\\ML - 3\\\\project\\\\Layer12\\\\results\\\\190507U.csv'\n",
    "\n",
    "# create the csv output file\n",
    "create_csv(test_IDs, y_pred_test_label1, y_pred_test_label2, y_pred_test_label3, y_pred_test_label4, destination)"
   ]
  }
 ],
 "metadata": {
  "colab": {
   "provenance": []
  },
  "kernelspec": {
   "display_name": "Python 3 (ipykernel)",
   "language": "python",
   "name": "python3"
  },
  "language_info": {
   "codemirror_mode": {
    "name": "ipython",
    "version": 3
   },
   "file_extension": ".py",
   "mimetype": "text/x-python",
   "name": "python",
   "nbconvert_exporter": "python",
   "pygments_lexer": "ipython3",
   "version": "3.10.12"
  }
 },
 "nbformat": 4,
 "nbformat_minor": 1
}
